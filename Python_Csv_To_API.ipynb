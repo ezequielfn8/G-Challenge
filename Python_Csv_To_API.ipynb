{
 "cells": [
  {
   "cell_type": "code",
   "execution_count": 1,
   "id": "9930b564",
   "metadata": {},
   "outputs": [],
   "source": [
    "import pandas as pd\n",
    "import requests"
   ]
  },
  {
   "cell_type": "code",
   "execution_count": 2,
   "id": "d9a1eecf",
   "metadata": {},
   "outputs": [],
   "source": [
    "df_hired_emp=pd.read_csv('hired_employees.csv',header=None)"
   ]
  },
  {
   "cell_type": "code",
   "execution_count": 3,
   "id": "a0a46d4f",
   "metadata": {},
   "outputs": [
    {
     "data": {
      "text/html": [
       "<div>\n",
       "<style scoped>\n",
       "    .dataframe tbody tr th:only-of-type {\n",
       "        vertical-align: middle;\n",
       "    }\n",
       "\n",
       "    .dataframe tbody tr th {\n",
       "        vertical-align: top;\n",
       "    }\n",
       "\n",
       "    .dataframe thead th {\n",
       "        text-align: right;\n",
       "    }\n",
       "</style>\n",
       "<table border=\"1\" class=\"dataframe\">\n",
       "  <thead>\n",
       "    <tr style=\"text-align: right;\">\n",
       "      <th></th>\n",
       "      <th>0</th>\n",
       "      <th>1</th>\n",
       "      <th>2</th>\n",
       "      <th>3</th>\n",
       "      <th>4</th>\n",
       "    </tr>\n",
       "  </thead>\n",
       "  <tbody>\n",
       "    <tr>\n",
       "      <th>0</th>\n",
       "      <td>1</td>\n",
       "      <td>Harold Vogt</td>\n",
       "      <td>2021-11-07T02:48:42Z</td>\n",
       "      <td>2.0</td>\n",
       "      <td>96.0</td>\n",
       "    </tr>\n",
       "    <tr>\n",
       "      <th>1</th>\n",
       "      <td>2</td>\n",
       "      <td>Ty Hofer</td>\n",
       "      <td>2021-05-30T05:43:46Z</td>\n",
       "      <td>8.0</td>\n",
       "      <td>NaN</td>\n",
       "    </tr>\n",
       "    <tr>\n",
       "      <th>2</th>\n",
       "      <td>3</td>\n",
       "      <td>Lyman Hadye</td>\n",
       "      <td>2021-09-01T23:27:38Z</td>\n",
       "      <td>5.0</td>\n",
       "      <td>52.0</td>\n",
       "    </tr>\n",
       "    <tr>\n",
       "      <th>3</th>\n",
       "      <td>4</td>\n",
       "      <td>Lotti Crowthe</td>\n",
       "      <td>2021-10-01T13:04:21Z</td>\n",
       "      <td>12.0</td>\n",
       "      <td>71.0</td>\n",
       "    </tr>\n",
       "    <tr>\n",
       "      <th>4</th>\n",
       "      <td>5</td>\n",
       "      <td>Gretna Lording</td>\n",
       "      <td>2021-10-10T22:22:17Z</td>\n",
       "      <td>6.0</td>\n",
       "      <td>80.0</td>\n",
       "    </tr>\n",
       "  </tbody>\n",
       "</table>\n",
       "</div>"
      ],
      "text/plain": [
       "   0               1                     2     3     4\n",
       "0  1     Harold Vogt  2021-11-07T02:48:42Z   2.0  96.0\n",
       "1  2        Ty Hofer  2021-05-30T05:43:46Z   8.0   NaN\n",
       "2  3     Lyman Hadye  2021-09-01T23:27:38Z   5.0  52.0\n",
       "3  4   Lotti Crowthe  2021-10-01T13:04:21Z  12.0  71.0\n",
       "4  5  Gretna Lording  2021-10-10T22:22:17Z   6.0  80.0"
      ]
     },
     "execution_count": 3,
     "metadata": {},
     "output_type": "execute_result"
    }
   ],
   "source": [
    "df_hired_emp.head()"
   ]
  },
  {
   "cell_type": "code",
   "execution_count": 4,
   "id": "72cdd7e2",
   "metadata": {},
   "outputs": [],
   "source": [
    "df_hired_emp.columns=['id','name','datetime','department_id','job_id']"
   ]
  },
  {
   "cell_type": "code",
   "execution_count": 5,
   "id": "308e1bd0",
   "metadata": {},
   "outputs": [],
   "source": [
    "df_hired_failed=df_hired_emp[df_hired_emp.isna().any(axis=1)]"
   ]
  },
  {
   "cell_type": "code",
   "execution_count": 6,
   "id": "066bdf81",
   "metadata": {},
   "outputs": [],
   "source": [
    "df_hired_failed.to_csv('hired_employees_with_nulls.csv')"
   ]
  },
  {
   "cell_type": "code",
   "execution_count": 7,
   "id": "dbb4f1e9",
   "metadata": {},
   "outputs": [],
   "source": [
    "df_hired_emp=df_hired_emp.dropna()"
   ]
  },
  {
   "cell_type": "code",
   "execution_count": null,
   "id": "c0511721",
   "metadata": {},
   "outputs": [],
   "source": [
    "def Post_API(data):\n",
    "    id=str(data.id)\n",
    "    name=str(data.name)\n",
    "    datetime=str(data.datetime)\n",
    "    department_id=str(data.department_id)\n",
    "    job_id=str(data.job_id)\n",
    "    json='{\"id\":'+id+',\"name\":'+name+',\"datetime\":'+datetime+',\"department_id\":'+department_id+', \"job_id\":'+job_id+'}'\n",
    "    url = \"http://127.0.0.1:5000/departments\" \n",
    "    response = requests.post(url, data = json)\n",
    "    return response\n",
    "\n",
    "df_hired_emp[\"Response\"] = df_hired_emp.apply(Post_API, axis = 1)"
   ]
  }
 ],
 "metadata": {
  "kernelspec": {
   "display_name": "Python 3",
   "language": "python",
   "name": "python3"
  },
  "language_info": {
   "codemirror_mode": {
    "name": "ipython",
    "version": 3
   },
   "file_extension": ".py",
   "mimetype": "text/x-python",
   "name": "python",
   "nbconvert_exporter": "python",
   "pygments_lexer": "ipython3",
   "version": "3.8.8"
  }
 },
 "nbformat": 4,
 "nbformat_minor": 5
}
